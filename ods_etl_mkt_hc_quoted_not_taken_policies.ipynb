{
 "cells": [
  {
   "cell_type": "markdown",
   "metadata": {},
   "source": [
    "\n",
    "# [ODS ETL] Healthcare Quoted Not Taken Policies Refresh to Marketing Cloud\n"
   ]
  },
  {
   "cell_type": "markdown",
   "metadata": {},
   "source": [
    "<!-- ## Overview\n",
    "\n",
    "This notebook serves as the **implementation** and **documentation** for onboarding all the LIT initiative prospect data to the Agent Agency Repository as part of **A360 v2**. The notebook details the algorithm **rules** selected for **matching** the prospect data with the **agency** and **agency_contact** data from **ODS** in addition to applying these rules to the data loaded to the **raw** layer of the **agency_repo**.  -->\n"
   ]
  },
  {
   "cell_type": "markdown",
   "metadata": {},
   "source": [
    "## Reference Component Architecture\n",
    "\n",
    "![title](./img/Production%20ETL%20-%20Marketing%20Schedule%20Driven.png)"
   ]
  },
  {
   "cell_type": "code",
   "execution_count": 25,
   "metadata": {},
   "outputs": [],
   "source": [
    "#papermill_description=PythonPackageImport\n",
    "import pandas as pd\n",
    "import numpy as np\n",
    "from sqlalchemy import create_engine\n",
    "from datetime import datetime, timedelta, date\n",
    "from secrets_manager import get_secret\n",
    "import json\n",
    "import os\n",
    "import math"
   ]
  },
  {
   "cell_type": "code",
   "execution_count": null,
   "metadata": {},
   "outputs": [],
   "source": [
    "#papermill_description=Start\n",
    "start_at = datetime.now()\n",
    "print(f\"Starting at {start_at}\")"
   ]
  },
  {
   "cell_type": "code",
   "execution_count": 27,
   "metadata": {
    "tags": [
     "parameters"
    ]
   },
   "outputs": [],
   "source": [
    "limit = 5000\n",
    "offset = 0\n",
    "key = 'pending'\n",
    "mode = 'baseline'"
   ]
  },
  {
   "cell_type": "code",
   "execution_count": 28,
   "metadata": {},
   "outputs": [],
   "source": [
    "# os.environ[\"RDS_SECRETS_MANAGER_ID\"] = \"arn:aws:secretsmanager:us-east-1:968921834094:secret:affinity-ods2-ar4262-dv001-rds-master-credentials-169S6S\"\n",
    "# os.environ[\"RDS_PROD_SECRETS_MANAGER_ID\"] = \"arn:aws:secretsmanager:us-east-1:968921834094:secret:affinity-ods2-ar4262-dv001-rds-prod-svc-credentials-QxmDtd\"\n",
    "# os.environ[\"SFMC_API_CREDENTIALS_SECRET_MANAGER_ID\"] = \"arn:aws:secretsmanager:us-east-1:968921834094:secret:affinity-ods-ar4262-dv001-sfmc-api-credentials-RbEIMF\"\n",
    "# os.environ[\"AWS_REGION\"] = \"us-east-1\""
   ]
  },
  {
   "cell_type": "markdown",
   "metadata": {},
   "source": [
    "### Database Credentials Retrieval\n",
    "Retrieve database credentials for ODS dev and prod Databases using AWS secrets manager"
   ]
  },
  {
   "cell_type": "code",
   "execution_count": 30,
   "metadata": {},
   "outputs": [],
   "source": [
    "#papermill_description=DatabaseCredentialsRetrieval\n",
    "db_secret_dev = json.loads(get_secret(\n",
    "         secret_name=os.environ[\"RDS_SECRETS_MANAGER_ID\"], region_name=os.environ[\"AWS_REGION\"]))\n",
    "db_secret_prod = json.loads(get_secret(\n",
    "         secret_name=os.environ[\"RDS_PROD_SECRETS_MANAGER_ID\"], region_name=os.environ[\"AWS_REGION\"]))\n",
    "sfmc_secret_dev = json.loads(get_secret(\n",
    "         secret_name=os.environ[\"SFMC_API_CREDENTIALS_SECRET_MANAGER_ID\"], region_name=os.environ[\"AWS_REGION\"]))"
   ]
  },
  {
   "cell_type": "markdown",
   "metadata": {},
   "source": [
    "### Database Connections\n",
    "* ods_db_prod (Connection to Affinity AWB Production MySQL DB Cluster)"
   ]
  },
  {
   "cell_type": "code",
   "execution_count": 31,
   "metadata": {},
   "outputs": [],
   "source": [
    "#papermill_description=DatabaseConnections\n",
    "# rds_host_dev = \"affinity-ods2-develop.cluster-cj3qp6qspcpk.us-east-1.rds.amazonaws.com\"\n",
    "# rds_db_name_dev = \"agency_repo\"\n",
    "\n",
    "# ods_conn_str_dev = f\"mysql+pymysql://{db_secret_dev['username']}:{db_secret_dev['password']}@{rds_host_dev}/{rds_db_name_dev}\"\n",
    "# ods_db_dev = create_engine(ods_conn_str_dev, echo=False)\n",
    "\n",
    "rds_host_prod = \"affinity-awb2.cluster-cyfwyevzbce3.us-east-1.rds.amazonaws.com\"\n",
    "rds_db_name_prod = \"awb\"\n",
    "ods_conn_str_prod = f\"mysql+pymysql://{db_secret_prod['username']}:{db_secret_prod['password']}@{rds_host_prod}/{rds_db_name_prod}\"\n",
    "ods_db_prod = create_engine(ods_conn_str_prod, echo=False)"
   ]
  },
  {
   "cell_type": "markdown",
   "metadata": {},
   "source": [
    "### Input Datasets\n",
    "* df_ins  (AWB table: awb.marketing_etl_pending_customer)"
   ]
  },
  {
   "cell_type": "code",
   "execution_count": null,
   "metadata": {},
   "outputs": [],
   "source": [
    "#papermill_description=MarketingETLCustomers\n",
    "todayDate = datetime.today().date().strftime('%Y-%m-%d')\n",
    "if (mode == \"baseline\"):\n",
    "    df_ins = pd.read_sql(f\"select * from awb.marketing_etl_pending_customer order by account_no limit {limit} offset {offset}\", con=ods_db_prod)\n",
    "    print(df_ins)\n",
    "elif (mode == \"incremental\"):\n",
    "    df_ins = pd.read_sql(f\"select * from awb.marketing_etl_pending_customer_inc WHERE Date(modified_date) = '{todayDate}' order by account_no limit {limit} offset {offset}\", con=ods_db_prod)\n",
    "    print(df_ins)\n",
    "else:  \n",
    "    df_ins = pd.read_sql(f\"select * from awb.marketing_etl_pending_customer order by account_no limit {limit} offset {offset}\", con=ods_db_prod)\n",
    "    print(df_ins)      "
   ]
  },
  {
   "cell_type": "markdown",
   "metadata": {},
   "source": [
    "#### Filter Invalid email addresses"
   ]
  },
  {
   "cell_type": "code",
   "execution_count": null,
   "metadata": {},
   "outputs": [],
   "source": [
    "#papermill_description=FilterInvalidEmail\n",
    "df_ins = df_ins[df_ins['customer_email_id'].notnull() & df_ins['customer_email_id'].str.contains('@')]\n",
    "print(df_ins)"
   ]
  },
  {
   "cell_type": "code",
   "execution_count": 34,
   "metadata": {},
   "outputs": [],
   "source": [
    "def validate_date(date_str=\"\"):\n",
    "    try:\n",
    "        if date_str != datetime.strptime(date_str, '%Y%m%d').strftime('%Y%m%d'):\n",
    "            raise ValueError\n",
    "        return True\n",
    "    except ValueError:\n",
    "        return False"
   ]
  },
  {
   "cell_type": "markdown",
   "metadata": {},
   "source": [
    "#### Add Attributes\n",
    "* account_alias\n",
    "* age"
   ]
  },
  {
   "cell_type": "code",
   "execution_count": 35,
   "metadata": {},
   "outputs": [],
   "source": [
    "#papermill_description=AddAccountAliasAndAgeAttributes\n",
    "df_ins['account_alias'] = [(int(x[0]) * 2) + 1 for x in zip(df_ins['account_no'])]\n",
    "df_ins['age'] = [date.today().year - datetime.strptime(str(x[0]), '%Y%m%d').date().year - ((date.today().month, date.today().day) < (datetime.strptime(str(x[0]), '%Y%m%d').date().month, datetime.strptime(str(x[0]), '%Y%m%d').date().day)) if validate_date(str(x[0])) else None for x in zip(df_ins['dob'])]"
   ]
  },
  {
   "cell_type": "markdown",
   "metadata": {},
   "source": [
    "#### Change Date Format to SFMC DE Standard"
   ]
  },
  {
   "cell_type": "code",
   "execution_count": 36,
   "metadata": {},
   "outputs": [],
   "source": [
    "#papermill_description=ChangeDateFormatToSFMCStandard\n",
    "for col_name in ['action_date', 'dob', 'original_effective_date', 'effective_date', 'last_bill_date', 'policy_effective_date', 'policy_expiration_date', 'termination_date','application_entry_date','application_decline_date','modified_date']:\n",
    "    df_ins[col_name] = [datetime.strptime(str(x[0]), '%Y%m%d').strftime('%m/%d/%Y') if validate_date(str(x[0])) else str(x[0]) for x in zip(df_ins[col_name])]"
   ]
  },
  {
   "cell_type": "code",
   "execution_count": 37,
   "metadata": {},
   "outputs": [],
   "source": [
    "df_ins['ACPORG'] = ''\n",
    "df_ins['ADDRS2'] = ''\n",
    "df_ins['DEMSCR'] = ''\n",
    "df_ins['FAXPHN'] = ''\n",
    "df_ins['SCLTAG'] = ''\n",
    "df_ins['TLEVEL'] = ''\n",
    "df_ins['NEW_RENEWAL'] = ''\n",
    "df_ins['PHNTAG'] = ''\n",
    "df_ins['SCLTAG'] = ''\n",
    "df_ins['POLICY_YEAR'] = 0\n",
    "df_ins['PROGRAM'] = ''\n",
    "df_ins['DIVISION'] = ''"
   ]
  },
  {
   "cell_type": "markdown",
   "metadata": {},
   "source": [
    "#### Rename columns"
   ]
  },
  {
   "cell_type": "code",
   "execution_count": 38,
   "metadata": {},
   "outputs": [],
   "source": [
    "#papermill_description=RenameColumns\n",
    "df_ins.rename(columns = {\n",
    "    'account_no':'ACCTNO',\n",
    "    'action_date':'ACTION_DATE', \n",
    "    'address':'ADDRS1',\n",
    "    'age':'AGE',\n",
    "    'account_balance':'BALANC',\n",
    "    'application_decline_date': 'ACADDT',\n",
    "    'application_entry_date': 'ACAEDT',\n",
    "    'base_premium':'BASPRM',\n",
    "    'city':'CITY00',\n",
    "    'contact_name': 'ACCONT',\n",
    "    'customer_email_id':'CSEMAD',\n",
    "    'customer_no': 'CUSTNO',\n",
    "    'business_type': 'CVBUST',\n",
    "    'elec_fulfillment_flag': 'CVELEF',\n",
    "    'employment_status': 'CVEMPS',\n",
    "    'enrollment_flag':'ENROLLMENT_FLAG',\n",
    "    'profession_flag': 'CVPRFF',\n",
    "    'professional_level': 'CVPRFL',\n",
    "    'effective_date': 'EFFDAT',\n",
    "    'entity_status': 'ENTSTS',\n",
    "    'first_name': 'FSTNAM',\n",
    "    'home_phone': 'HOMPHN',\n",
    "    'last_bill_date': 'LSTBLD',\n",
    "    'original_effective_date': 'ORGEFD',\n",
    "    'policy_effective_date': 'POLEFD',\n",
    "    'policy_expiration_date': 'POLEXD',\n",
    "    'state_code': 'STATCD',\n",
    "    'student_flag': 'STUDENT',\n",
    "    'total_premium': 'TOTPRM',\n",
    "    'work_phone': 'WORKPH',\n",
    "    'zip_code': 'ZIPCOD',\n",
    "    'new_or_renew': 'NEWRNW',\n",
    "    'termination_reason_code': 'TRMREA',\n",
    "    'account_alias': 'ACCTNO_Aliased',\n",
    "    'last_name': 'LASTNM',\n",
    "    'dob': 'DOBXXX',\n",
    "    'subprod_no': 'SUBPROD_NO',\n",
    "    'subprod_subno': 'SUBPROD_SUBNO',\n",
    "    'termination_date': 'TERMDT',\n",
    "    'policy_type': 'POLTYP',\n",
    "    'modified_date': 'MODIFIED_DATE'\n",
    "}, inplace = True)"
   ]
  },
  {
   "cell_type": "markdown",
   "metadata": {},
   "source": [
    "#### Filter Attributes"
   ]
  },
  {
   "cell_type": "code",
   "execution_count": null,
   "metadata": {},
   "outputs": [],
   "source": [
    "#papermill_description=FilterAttributes\n",
    "df_ins = df_ins[['CVPRFF', 'FSTNAM', 'LASTNM', 'ADDRS1', 'CITY00', 'STATCD', 'ZIPCOD', 'HOMPHN', 'WORKPH', 'DOBXXX', 'CSEMAD', 'CUSTNO', 'EFFDAT', 'NEWRNW', 'ACCTNO', 'ORGEFD', 'POLEFD', 'POLEXD', 'ENTSTS', 'TERMDT', 'TRMREA', 'STUDENT', 'CVEMPS', 'CVBUST', 'CVPRFL', 'ENROLLMENT_FLAG', 'BALANC', 'LSTBLD', 'TOTPRM', 'BASPRM', 'ACTION_DATE', 'SUBPROD_NO', 'SUBPROD_SUBNO', 'CVELEF', 'ACCTNO_Aliased', 'AGE', 'ACPORG', 'ADDRS2', 'DEMSCR', 'FAXPHN', 'SCLTAG', 'TLEVEL', 'POLICY_YEAR', 'PROGRAM', 'DIVISION', 'NEW_RENEWAL', 'PHNTAG', 'ACCONT', 'ACAEDT', 'ACADDT', 'MODIFIED_DATE']]"
   ]
  },
  {
   "cell_type": "code",
   "execution_count": 24,
   "metadata": {},
   "outputs": [],
   "source": [
    "\n",
    "df_ins.loc[:, 'created_at'] = pd.Timestamp(datetime.now())"
   ]
  },
  {
   "cell_type": "markdown",
   "metadata": {},
   "source": [
    "#### Persist Data to SQL"
   ]
  },
  {
   "cell_type": "code",
   "execution_count": null,
   "metadata": {},
   "outputs": [],
   "source": [
    "#papermill_description=PersistDataToMySQL\n",
    "df_ins.to_sql('marketing_etl_customers_sfmc_de', schema='awb', con=ods_db_prod, if_exists='replace')"
   ]
  },
  {
   "cell_type": "markdown",
   "metadata": {},
   "source": [
    "#### SFMC API Code\n",
    "Parse data from Dataframe and send to SFMC API"
   ]
  },
  {
   "cell_type": "code",
   "execution_count": null,
   "metadata": {},
   "outputs": [],
   "source": [
    "## TODO\n",
    "import requests\n",
    "url = os.environ['TOKEN_URL'] \n",
    "\n",
    "\n",
    "payload = json.dumps({\n",
    "  \"grant_type\": sfmc_secret_dev['grant_type'],\n",
    "  \"client_id\": sfmc_secret_dev['client_id'],\n",
    "  \"client_secret\": sfmc_secret_dev['client_secret'],\n",
    "  \"account_id\": sfmc_secret_dev['account_id']\n",
    "})\n",
    "headers = {\n",
    "  'Content-Type': 'application/json'\n",
    "}\n",
    "\n",
    "response = requests.request(\"POST\", url, headers=headers, data=payload)\n",
    "result = json.loads(response.text)\n",
    "accessTokenResult = result['access_token']\n",
    "\n",
    "url = os.environ['SFMC_URL_QUOTED_NOT_TAKEN']\n",
    "headers = {\n",
    "            'Content-Type': 'application/json',\n",
    "            'Authorization': 'Bearer' +' ' + accessTokenResult\n",
    "        }\n",
    "chunk_size = 10000 #Define chunk size        \n",
    "df_ins = df_ins.applymap(lambda x: x.strip() if isinstance(x,str) else x)    #strip spaces from strings\n",
    "     \n",
    "df_ins = df_ins.replace([\"None\", \"nan\", \"NaT\", \" \"], \"\") #Replace unwanted values\n",
    "\n",
    "#split dataframes into chunks\n",
    "chunks = [df_ins.iloc[i:i + chunk_size] for i in range(0, len(df_ins),chunk_size)]\n",
    "\n",
    "for index, chunk in enumerate(chunks):\n",
    "  value = chunk.to_json(orient = 'records')\n",
    "  result = {\"items\": json.loads(value)}\n",
    "  payloadJson = json.dumps(result)\n",
    "  print('TEST')\n",
    "  print(payloadJson)\n",
    "  response = requests.request(\"POST\", url, headers=headers, data=payloadJson)\n",
    "  print(response.text)\n",
    "\n",
    "\n"
   ]
  }
 ],
 "metadata": {
  "kernelspec": {
   "display_name": "venv",
   "language": "python",
   "name": "python3"
  },
  "language_info": {
   "codemirror_mode": {
    "name": "ipython",
    "version": 3
   },
   "file_extension": ".py",
   "mimetype": "text/x-python",
   "name": "python",
   "nbconvert_exporter": "python",
   "pygments_lexer": "ipython3",
   "version": "3.12.2"
  }
 },
 "nbformat": 4,
 "nbformat_minor": 2
}
